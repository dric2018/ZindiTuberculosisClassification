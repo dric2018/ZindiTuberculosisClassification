{
 "cells": [
  {
   "cell_type": "markdown",
   "metadata": {},
   "source": [
    "# Imports"
   ]
  },
  {
   "cell_type": "code",
   "execution_count": 2,
   "metadata": {},
   "outputs": [],
   "source": [
    "import warnings\n",
    "warnings.filterwarnings(action='ignore')"
   ]
  },
  {
   "cell_type": "code",
   "execution_count": 3,
   "metadata": {},
   "outputs": [
    {
     "name": "stdout",
     "output_type": "stream",
     "text": [
      "[INFO] Using tensorflow-gpu 2.3.0\n"
     ]
    }
   ],
   "source": [
    "import tensorflow as tf \n",
    "from tensorflow import keras \n",
    "import sklearn\n",
    "from sklearn.metrics import roc_curve, auc, log_loss, precision_score, f1_score, recall_score, confusion_matrix\n",
    "from sklearn.model_selection import KFold, StratifiedKFold\n",
    "import matplotlib as mplb \n",
    "import matplotlib.pyplot as plt \n",
    "#plt.style.use('ggplot')\n",
    "import numpy as np\n",
    "import pandas as pd \n",
    "\n",
    "import seaborn as sns\n",
    "\n",
    "import os \n",
    "import zipfile\n",
    "import shutil\n",
    "import getpass\n",
    "import requests\n",
    "from IPython.display import clear_output\n",
    "from tqdm.notebook import tqdm\n",
    "import datetime\n",
    "\n",
    "%load_ext tensorboard\n",
    "print(f'[INFO] Using tensorflow-gpu {tf.__version__}')"
   ]
  },
  {
   "cell_type": "markdown",
   "metadata": {},
   "source": [
    "# Config"
   ]
  },
  {
   "cell_type": "code",
   "execution_count": 4,
   "metadata": {},
   "outputs": [],
   "source": [
    "os.environ['TF_CPP_MIN_LOG_LEVEL'] = \"2\"\n",
    "\n",
    "physical_devices = tf.config.list_physical_devices('GPU')\n",
    "tf.config.experimental.set_memory_growth(physical_devices[0], True)\n",
    "\n",
    "seed_val = 2020\n",
    "\n",
    "# set seed \n",
    "np.random.seed(seed=seed_val)\n",
    "\n",
    "tf.random.set_seed(seed=seed_val)"
   ]
  },
  {
   "cell_type": "markdown",
   "metadata": {},
   "source": [
    "# Params"
   ]
  },
  {
   "cell_type": "code",
   "execution_count": 5,
   "metadata": {},
   "outputs": [],
   "source": [
    "IMG_SIZE = 224\n",
    "IMG_SHAPE  = (IMG_SIZE, IMG_SIZE, 3)\n",
    "BATCH_SIZE = 64\n",
    "class_names = ['NEG', 'POS']\n",
    "base_dir = '../'\n",
    "train_images_dir = os.path.join(base_dir, 'Datasets/Images', 'train')\n",
    "val_images_dir = os.path.join(base_dir, 'Datasets/Images', 'val')\n",
    "test_images_dir = os.path.join(base_dir, 'Datasets/Images', 'test')\n",
    "\n",
    "train_csv_path = os.path.join(base_dir, 'Datasets/Csv', 'Train.csv')\n",
    "test_csv_path = os.path.join(base_dir, 'Datasets/Csv', 'Test.csv')\n",
    "sample_csv_path = os.path.join(base_dir, 'Datasets/Csv', 'Train.csv')"
   ]
  },
  {
   "cell_type": "code",
   "execution_count": 6,
   "metadata": {},
   "outputs": [],
   "source": [
    "train_df  = pd.read_csv(train_csv_path)\n",
    "test_df  = pd.read_csv(test_csv_path)\n",
    "sample_sub_df = pd.read_csv(sample_csv_path)"
   ]
  },
  {
   "cell_type": "code",
   "execution_count": 7,
   "metadata": {},
   "outputs": [
    {
     "data": {
      "text/html": [
       "<div>\n",
       "<style scoped>\n",
       "    .dataframe tbody tr th:only-of-type {\n",
       "        vertical-align: middle;\n",
       "    }\n",
       "\n",
       "    .dataframe tbody tr th {\n",
       "        vertical-align: top;\n",
       "    }\n",
       "\n",
       "    .dataframe thead th {\n",
       "        text-align: right;\n",
       "    }\n",
       "</style>\n",
       "<table border=\"1\" class=\"dataframe\">\n",
       "  <thead>\n",
       "    <tr style=\"text-align: right;\">\n",
       "      <th></th>\n",
       "      <th>filename</th>\n",
       "      <th>ID</th>\n",
       "      <th>LABEL</th>\n",
       "    </tr>\n",
       "  </thead>\n",
       "  <tbody>\n",
       "    <tr>\n",
       "      <th>0</th>\n",
       "      <td>train/VTYNBFTO.png</td>\n",
       "      <td>VTYNBFTO</td>\n",
       "      <td>1</td>\n",
       "    </tr>\n",
       "    <tr>\n",
       "      <th>1</th>\n",
       "      <td>train/GVVXXDOZ.png</td>\n",
       "      <td>GVVXXDOZ</td>\n",
       "      <td>0</td>\n",
       "    </tr>\n",
       "    <tr>\n",
       "      <th>2</th>\n",
       "      <td>train/PMRSQLXN.png</td>\n",
       "      <td>PMRSQLXN</td>\n",
       "      <td>0</td>\n",
       "    </tr>\n",
       "    <tr>\n",
       "      <th>3</th>\n",
       "      <td>train/JXISWDUU.png</td>\n",
       "      <td>JXISWDUU</td>\n",
       "      <td>1</td>\n",
       "    </tr>\n",
       "    <tr>\n",
       "      <th>4</th>\n",
       "      <td>train/JVWMAACC.png</td>\n",
       "      <td>JVWMAACC</td>\n",
       "      <td>1</td>\n",
       "    </tr>\n",
       "  </tbody>\n",
       "</table>\n",
       "</div>"
      ],
      "text/plain": [
       "             filename        ID  LABEL\n",
       "0  train/VTYNBFTO.png  VTYNBFTO      1\n",
       "1  train/GVVXXDOZ.png  GVVXXDOZ      0\n",
       "2  train/PMRSQLXN.png  PMRSQLXN      0\n",
       "3  train/JXISWDUU.png  JXISWDUU      1\n",
       "4  train/JVWMAACC.png  JVWMAACC      1"
      ]
     },
     "execution_count": 7,
     "metadata": {},
     "output_type": "execute_result"
    }
   ],
   "source": [
    "train_df.head()"
   ]
  },
  {
   "cell_type": "code",
   "execution_count": 8,
   "metadata": {},
   "outputs": [
    {
     "data": {
      "text/html": [
       "<div>\n",
       "<style scoped>\n",
       "    .dataframe tbody tr th:only-of-type {\n",
       "        vertical-align: middle;\n",
       "    }\n",
       "\n",
       "    .dataframe tbody tr th {\n",
       "        vertical-align: top;\n",
       "    }\n",
       "\n",
       "    .dataframe thead th {\n",
       "        text-align: right;\n",
       "    }\n",
       "</style>\n",
       "<table border=\"1\" class=\"dataframe\">\n",
       "  <thead>\n",
       "    <tr style=\"text-align: right;\">\n",
       "      <th></th>\n",
       "      <th>filename</th>\n",
       "      <th>ID</th>\n",
       "    </tr>\n",
       "  </thead>\n",
       "  <tbody>\n",
       "    <tr>\n",
       "      <th>0</th>\n",
       "      <td>test/GTWSHFYQ.png</td>\n",
       "      <td>GTWSHFYQ</td>\n",
       "    </tr>\n",
       "    <tr>\n",
       "      <th>1</th>\n",
       "      <td>test/QTFSSMGD.png</td>\n",
       "      <td>QTFSSMGD</td>\n",
       "    </tr>\n",
       "    <tr>\n",
       "      <th>2</th>\n",
       "      <td>test/TBLBHSYT.png</td>\n",
       "      <td>TBLBHSYT</td>\n",
       "    </tr>\n",
       "    <tr>\n",
       "      <th>3</th>\n",
       "      <td>test/ZKETEOFG.png</td>\n",
       "      <td>ZKETEOFG</td>\n",
       "    </tr>\n",
       "    <tr>\n",
       "      <th>4</th>\n",
       "      <td>test/GKTPBGZP.png</td>\n",
       "      <td>GKTPBGZP</td>\n",
       "    </tr>\n",
       "  </tbody>\n",
       "</table>\n",
       "</div>"
      ],
      "text/plain": [
       "            filename        ID\n",
       "0  test/GTWSHFYQ.png  GTWSHFYQ\n",
       "1  test/QTFSSMGD.png  QTFSSMGD\n",
       "2  test/TBLBHSYT.png  TBLBHSYT\n",
       "3  test/ZKETEOFG.png  ZKETEOFG\n",
       "4  test/GKTPBGZP.png  GKTPBGZP"
      ]
     },
     "execution_count": 8,
     "metadata": {},
     "output_type": "execute_result"
    }
   ],
   "source": [
    "test_df.head()"
   ]
  },
  {
   "cell_type": "code",
   "execution_count": 9,
   "metadata": {},
   "outputs": [
    {
     "data": {
      "text/html": [
       "<div>\n",
       "<style scoped>\n",
       "    .dataframe tbody tr th:only-of-type {\n",
       "        vertical-align: middle;\n",
       "    }\n",
       "\n",
       "    .dataframe tbody tr th {\n",
       "        vertical-align: top;\n",
       "    }\n",
       "\n",
       "    .dataframe thead th {\n",
       "        text-align: right;\n",
       "    }\n",
       "</style>\n",
       "<table border=\"1\" class=\"dataframe\">\n",
       "  <thead>\n",
       "    <tr style=\"text-align: right;\">\n",
       "      <th></th>\n",
       "      <th>filename</th>\n",
       "      <th>ID</th>\n",
       "      <th>LABEL</th>\n",
       "    </tr>\n",
       "  </thead>\n",
       "  <tbody>\n",
       "    <tr>\n",
       "      <th>713</th>\n",
       "      <td>train/EWGJDECH.png</td>\n",
       "      <td>EWGJDECH</td>\n",
       "      <td>1</td>\n",
       "    </tr>\n",
       "    <tr>\n",
       "      <th>714</th>\n",
       "      <td>train/CJEVKQUT.png</td>\n",
       "      <td>CJEVKQUT</td>\n",
       "      <td>1</td>\n",
       "    </tr>\n",
       "    <tr>\n",
       "      <th>715</th>\n",
       "      <td>train/YDXXBDGI.png</td>\n",
       "      <td>YDXXBDGI</td>\n",
       "      <td>1</td>\n",
       "    </tr>\n",
       "    <tr>\n",
       "      <th>716</th>\n",
       "      <td>train/QLUOORWZ.png</td>\n",
       "      <td>QLUOORWZ</td>\n",
       "      <td>0</td>\n",
       "    </tr>\n",
       "    <tr>\n",
       "      <th>717</th>\n",
       "      <td>train/HFAGCLGV.png</td>\n",
       "      <td>HFAGCLGV</td>\n",
       "      <td>1</td>\n",
       "    </tr>\n",
       "  </tbody>\n",
       "</table>\n",
       "</div>"
      ],
      "text/plain": [
       "               filename        ID  LABEL\n",
       "713  train/EWGJDECH.png  EWGJDECH      1\n",
       "714  train/CJEVKQUT.png  CJEVKQUT      1\n",
       "715  train/YDXXBDGI.png  YDXXBDGI      1\n",
       "716  train/QLUOORWZ.png  QLUOORWZ      0\n",
       "717  train/HFAGCLGV.png  HFAGCLGV      1"
      ]
     },
     "execution_count": 9,
     "metadata": {},
     "output_type": "execute_result"
    }
   ],
   "source": [
    "sample_sub_df.tail()"
   ]
  },
  {
   "cell_type": "markdown",
   "metadata": {},
   "source": [
    "# Datasets & Dataloaders"
   ]
  },
  {
   "cell_type": "code",
   "execution_count": 10,
   "metadata": {},
   "outputs": [],
   "source": [
    "image_generator = keras.preprocessing.image.ImageDataGenerator(featurewise_center=False,\n",
    "                                                               preprocessing_function=keras.applications.efficientnet.preprocess_input,\n",
    "                                                                rotation_range=33,\n",
    "                                                               brightness_range=[0.3, 1.0],\n",
    "                                                                zoom_range=0.3,\n",
    "                                                                fill_mode='nearest',\n",
    "                                                                horizontal_flip=True,\n",
    "                                                                vertical_flip=True,\n",
    "                                                                #rescale=1./255.0,\n",
    "                                                                validation_split=0.25)\n"
   ]
  },
  {
   "cell_type": "code",
   "execution_count": 11,
   "metadata": {},
   "outputs": [
    {
     "name": "stdout",
     "output_type": "stream",
     "text": [
      "Found 539 images belonging to 2 classes.\n",
      "Found 179 images belonging to 2 classes.\n"
     ]
    }
   ],
   "source": [
    "train_generator = image_generator.flow_from_directory(directory=train_images_dir+'/train', \n",
    "                                                      target_size=(IMG_SIZE, IMG_SIZE), \n",
    "                                                      batch_size=BATCH_SIZE, \n",
    "                                                      seed=seed_val, \n",
    "                                                      subset='training')\n",
    "\n",
    "validation_generator = image_generator.flow_from_directory(directory=train_images_dir+'/train', \n",
    "                                                      target_size=(IMG_SIZE, IMG_SIZE), \n",
    "                                                      batch_size=BATCH_SIZE, \n",
    "                                                      seed=seed_val, \n",
    "                                                      subset='validation')"
   ]
  },
  {
   "cell_type": "code",
   "execution_count": 12,
   "metadata": {
    "scrolled": true
   },
   "outputs": [
    {
     "name": "stdout",
     "output_type": "stream",
     "text": [
      "First image  shape : (224, 224, 3), label : [0. 1.]\n"
     ]
    }
   ],
   "source": [
    "for imgs, labels in train_generator:\n",
    "    print(f\"First image  shape : {imgs[0].shape}, label : {labels[0]}\")\n",
    "    break"
   ]
  },
  {
   "cell_type": "markdown",
   "metadata": {},
   "source": [
    "# Visualization"
   ]
  },
  {
   "cell_type": "code",
   "execution_count": 31,
   "metadata": {},
   "outputs": [],
   "source": [
    "def show_training_sample(batch_size=BATCH_SIZE):\n",
    "    imgs, labs = next(iter(train_generator))\n",
    "    plt.figure(figsize=(22, 18))\n",
    "    for i in range(min(25, batch_size)):\n",
    "        l, c = 5, 5\n",
    "        img = imgs[i] \n",
    "        label = class_names[tf.argmax(labs[i])]\n",
    "        ax = plt.subplot(l, c, i+1)\n",
    "        plt.imshow(img)\n",
    "        plt.title(label)\n",
    "        plt.axis(\"off\")\n",
    "        "
   ]
  },
  {
   "cell_type": "markdown",
   "metadata": {},
   "source": [
    "show_training_sample()"
   ]
  },
  {
   "cell_type": "code",
   "execution_count": 13,
   "metadata": {},
   "outputs": [],
   "source": [
    "arch_name = \"EfficientNetB4\"\n",
    "base_arch = getattr(tf.keras.applications, arch_name) \n",
    "base_model = base_arch(include_top=False, input_shape=IMG_SHAPE)"
   ]
  },
  {
   "cell_type": "code",
   "execution_count": 14,
   "metadata": {},
   "outputs": [],
   "source": [
    "# freeze trained layers\n",
    "for layer in base_model.layers:\n",
    "    layer.trainable = False\n",
    "\n",
    "\n",
    "def build_model(fc_size=2, n_dense_units=512):\n",
    "    \n",
    "    inputs = inputs = keras.Input(shape=IMG_SHAPE)\n",
    "    x = base_model(inputs, training=False)\n",
    "    x = keras.layers.GlobalAveragePooling2D()(x)\n",
    "    x = keras.layers.Dense(units=n_dense_units, activation='relu')(x)\n",
    "    x = keras.layers.Dropout(0.3)(x)\n",
    "    \n",
    "    if fc_size > 1:\n",
    "        predictions = keras.layers.Dense(units=fc_size, activation=\"softmax\")(x)\n",
    "        \n",
    "    else:\n",
    "        predictions = keras.layers.Dense(units=1, activation=\"sigmoid\")(x)\n",
    "    \n",
    "    model = keras.Model(inputs = inputs, outputs=predictions)\n",
    "    \n",
    "    return model"
   ]
  },
  {
   "cell_type": "code",
   "execution_count": 15,
   "metadata": {},
   "outputs": [
    {
     "name": "stdout",
     "output_type": "stream",
     "text": [
      "Model: \"functional_1\"\n",
      "_________________________________________________________________\n",
      "Layer (type)                 Output Shape              Param #   \n",
      "=================================================================\n",
      "input_2 (InputLayer)         [(None, 224, 224, 3)]     0         \n",
      "_________________________________________________________________\n",
      "efficientnetb4 (Functional)  (None, 7, 7, 1792)        17673823  \n",
      "_________________________________________________________________\n",
      "global_average_pooling2d (Gl (None, 1792)              0         \n",
      "_________________________________________________________________\n",
      "dense (Dense)                (None, 1024)              1836032   \n",
      "_________________________________________________________________\n",
      "dropout (Dropout)            (None, 1024)              0         \n",
      "_________________________________________________________________\n",
      "dense_1 (Dense)              (None, 2)                 2050      \n",
      "=================================================================\n",
      "Total params: 19,511,905\n",
      "Trainable params: 1,838,082\n",
      "Non-trainable params: 17,673,823\n",
      "_________________________________________________________________\n"
     ]
    }
   ],
   "source": [
    "model = build_model(fc_size=2, n_dense_units=1024)\n",
    "\n",
    "model.summary()"
   ]
  },
  {
   "cell_type": "markdown",
   "metadata": {},
   "source": [
    "# Training phase"
   ]
  },
  {
   "cell_type": "code",
   "execution_count": 16,
   "metadata": {},
   "outputs": [
    {
     "name": "stdout",
     "output_type": "stream",
     "text": [
      "../logs/20201112-170909\n"
     ]
    }
   ],
   "source": [
    "# training params \n",
    "# optimizer\n",
    "lr = 2e-5\n",
    "optimizer = keras.optimizers.Adam(learning_rate=lr)\n",
    "\n",
    "# loss \n",
    "loss_fn = keras.losses.CategoricalCrossentropy()\n",
    "\n",
    "model.compile(optimizer=optimizer, loss=loss_fn, metrics=['AUC'])\n",
    "\n",
    "num_epochs = 50\n",
    "optim_name = optimizer.get_config()['name']\n",
    "model_name = f'tf_model_x_rays_based_on_{arch_name}_and_{optim_name}.h5'\n",
    "model_path = os.path.join(base_dir, 'Models', model_name)\n",
    "\n",
    "# CALLBACKS \n",
    "auc_ckpt = keras.callbacks.ModelCheckpoint(filepath=model_path, \n",
    "                                           verbose=1, \n",
    "                                           monitor='val_auc', \n",
    "                                           mode='max',\n",
    "                                           save_best_only=True)\n",
    "\n",
    "acc_ckpt = keras.callbacks.ModelCheckpoint(filepath=model_path, \n",
    "                                           verbose=1, \n",
    "                                           mode='max',\n",
    "                                           monitor='val_accuracy', \n",
    "                                           save_best_only=True)\n",
    "\n",
    "loss_ckpt = keras.callbacks.ModelCheckpoint(filepath=model_path, \n",
    "                                            verbose=1, \n",
    "                                            mode='min',\n",
    "                                            monitor='val_loss', \n",
    "                                            save_best_only=True)\n",
    "\n",
    "es = keras.callbacks.EarlyStopping(monitor='val_loss', \n",
    "                                   patience=20, \n",
    "                                   verbose=1, \n",
    "                                   restore_best_weights=True)\n",
    "\n",
    "reduce_lr = tf.keras.callbacks.ReduceLROnPlateau(monitor='val_auc', \n",
    "                                                 factor=0.1, \n",
    "                                                 patience=10, \n",
    "                                                verbose=1, \n",
    "                                                 mode='max', \n",
    "                                                 min_lr=lr)\n",
    "\n",
    "LOGDIR = os.path.join(base_dir, \"logs\", datetime.datetime.now().strftime(\"%Y%m%d-%H%M%S\"))\n",
    "tensorboard_callback = keras.callbacks.TensorBoard(LOGDIR, histogram_freq=1)\n",
    "\n",
    "# bot config\n",
    "#bot_callback = botCallback(access_token=access_token)\n",
    "#plotter = Plotter(access_token)\n",
    "\n",
    "CALLBACKS = [auc_ckpt, loss_ckpt, es, reduce_lr, tensorboard_callback] #bot_callback, plotter]\n",
    "\n",
    "print(LOGDIR)"
   ]
  },
  {
   "cell_type": "code",
   "execution_count": 17,
   "metadata": {},
   "outputs": [
    {
     "data": {
      "text/html": [
       "\n",
       "      <iframe id=\"tensorboard-frame-bd7c321b4e13ec5e\" width=\"100%\" height=\"800\" frameborder=\"0\">\n",
       "      </iframe>\n",
       "      <script>\n",
       "        (function() {\n",
       "          const frame = document.getElementById(\"tensorboard-frame-bd7c321b4e13ec5e\");\n",
       "          const url = new URL(\"/\", window.location);\n",
       "          const port = 6011;\n",
       "          if (port) {\n",
       "            url.port = port;\n",
       "          }\n",
       "          frame.src = url;\n",
       "        })();\n",
       "      </script>\n",
       "    "
      ],
      "text/plain": [
       "<IPython.core.display.HTML object>"
      ]
     },
     "metadata": {},
     "output_type": "display_data"
    }
   ],
   "source": [
    "%tensorboard --logdir {LOGDIR} "
   ]
  },
  {
   "cell_type": "code",
   "execution_count": 18,
   "metadata": {
    "scrolled": true
   },
   "outputs": [
    {
     "name": "stdout",
     "output_type": "stream",
     "text": [
      "Epoch 1/50\n",
      "1/8 [==>...........................] - ETA: 0s - loss: 0.6422 - auc: 0.6985WARNING:tensorflow:From /home/zeusdric/anaconda3/envs/tf2-gpu/lib/python3.7/site-packages/tensorflow/python/ops/summary_ops_v2.py:1277: stop (from tensorflow.python.eager.profiler) is deprecated and will be removed after 2020-07-01.\n",
      "Instructions for updating:\n",
      "use `tf.profiler.experimental.stop` instead.\n",
      "8/8 [==============================] - ETA: 0s - loss: 0.6934 - auc: 0.5639\n",
      "Epoch 00001: val_auc improved from -inf to 0.59793, saving model to ../Models/tf_model_x_rays_based_on_EfficientNetB4_and_Adam.h5\n",
      "\n",
      "Epoch 00001: val_loss improved from inf to 0.67910, saving model to ../Models/tf_model_x_rays_based_on_EfficientNetB4_and_Adam.h5\n",
      "8/8 [==============================] - 95s 12s/step - loss: 0.6934 - auc: 0.5639 - val_loss: 0.6791 - val_auc: 0.5979\n",
      "Epoch 2/50\n",
      "8/8 [==============================] - ETA: 0s - loss: 0.6624 - auc: 0.6456\n",
      "Epoch 00002: val_auc improved from 0.59793 to 0.67050, saving model to ../Models/tf_model_x_rays_based_on_EfficientNetB4_and_Adam.h5\n",
      "\n",
      "Epoch 00002: val_loss improved from 0.67910 to 0.65588, saving model to ../Models/tf_model_x_rays_based_on_EfficientNetB4_and_Adam.h5\n",
      "8/8 [==============================] - 79s 10s/step - loss: 0.6624 - auc: 0.6456 - val_loss: 0.6559 - val_auc: 0.6705\n",
      "Epoch 3/50\n",
      "8/8 [==============================] - ETA: 0s - loss: 0.6505 - auc: 0.6680\n",
      "Epoch 00003: val_auc improved from 0.67050 to 0.73206, saving model to ../Models/tf_model_x_rays_based_on_EfficientNetB4_and_Adam.h5\n",
      "\n",
      "Epoch 00003: val_loss improved from 0.65588 to 0.62319, saving model to ../Models/tf_model_x_rays_based_on_EfficientNetB4_and_Adam.h5\n",
      "8/8 [==============================] - 75s 9s/step - loss: 0.6505 - auc: 0.6680 - val_loss: 0.6232 - val_auc: 0.7321\n",
      "Epoch 4/50\n",
      "8/8 [==============================] - ETA: 0s - loss: 0.6537 - auc: 0.6545\n",
      "Epoch 00004: val_auc improved from 0.73206 to 0.76651, saving model to ../Models/tf_model_x_rays_based_on_EfficientNetB4_and_Adam.h5\n",
      "\n",
      "Epoch 00004: val_loss improved from 0.62319 to 0.60894, saving model to ../Models/tf_model_x_rays_based_on_EfficientNetB4_and_Adam.h5\n",
      "8/8 [==============================] - 75s 9s/step - loss: 0.6537 - auc: 0.6545 - val_loss: 0.6089 - val_auc: 0.7665\n",
      "Epoch 5/50\n",
      "8/8 [==============================] - ETA: 0s - loss: 0.6228 - auc: 0.7188\n",
      "Epoch 00005: val_auc did not improve from 0.76651\n",
      "\n",
      "Epoch 00005: val_loss did not improve from 0.60894\n",
      "8/8 [==============================] - 67s 8s/step - loss: 0.6228 - auc: 0.7188 - val_loss: 0.6105 - val_auc: 0.7513\n",
      "Epoch 6/50\n",
      "8/8 [==============================] - ETA: 0s - loss: 0.6236 - auc: 0.7125\n",
      "Epoch 00006: val_auc improved from 0.76651 to 0.76797, saving model to ../Models/tf_model_x_rays_based_on_EfficientNetB4_and_Adam.h5\n",
      "\n",
      "Epoch 00006: val_loss improved from 0.60894 to 0.60704, saving model to ../Models/tf_model_x_rays_based_on_EfficientNetB4_and_Adam.h5\n",
      "8/8 [==============================] - 76s 10s/step - loss: 0.6236 - auc: 0.7125 - val_loss: 0.6070 - val_auc: 0.7680\n",
      "Epoch 7/50\n",
      "8/8 [==============================] - ETA: 0s - loss: 0.5936 - auc: 0.7679\n",
      "Epoch 00007: val_auc improved from 0.76797 to 0.78375, saving model to ../Models/tf_model_x_rays_based_on_EfficientNetB4_and_Adam.h5\n",
      "\n",
      "Epoch 00007: val_loss improved from 0.60704 to 0.58755, saving model to ../Models/tf_model_x_rays_based_on_EfficientNetB4_and_Adam.h5\n",
      "8/8 [==============================] - 72s 9s/step - loss: 0.5936 - auc: 0.7679 - val_loss: 0.5875 - val_auc: 0.7838\n",
      "Epoch 8/50\n",
      "8/8 [==============================] - ETA: 0s - loss: 0.5921 - auc: 0.7702\n",
      "Epoch 00008: val_auc improved from 0.78375 to 0.80460, saving model to ../Models/tf_model_x_rays_based_on_EfficientNetB4_and_Adam.h5\n",
      "\n",
      "Epoch 00008: val_loss improved from 0.58755 to 0.56840, saving model to ../Models/tf_model_x_rays_based_on_EfficientNetB4_and_Adam.h5\n",
      "8/8 [==============================] - 73s 9s/step - loss: 0.5921 - auc: 0.7702 - val_loss: 0.5684 - val_auc: 0.8046\n",
      "Epoch 9/50\n",
      "8/8 [==============================] - ETA: 0s - loss: 0.5965 - auc: 0.7603\n",
      "Epoch 00009: val_auc improved from 0.80460 to 0.81714, saving model to ../Models/tf_model_x_rays_based_on_EfficientNetB4_and_Adam.h5\n",
      "\n",
      "Epoch 00009: val_loss improved from 0.56840 to 0.55954, saving model to ../Models/tf_model_x_rays_based_on_EfficientNetB4_and_Adam.h5\n",
      "8/8 [==============================] - 76s 9s/step - loss: 0.5965 - auc: 0.7603 - val_loss: 0.5595 - val_auc: 0.8171\n",
      "Epoch 10/50\n",
      "8/8 [==============================] - ETA: 0s - loss: 0.5813 - auc: 0.7731\n",
      "Epoch 00010: val_auc improved from 0.81714 to 0.83807, saving model to ../Models/tf_model_x_rays_based_on_EfficientNetB4_and_Adam.h5\n",
      "\n",
      "Epoch 00010: val_loss improved from 0.55954 to 0.54760, saving model to ../Models/tf_model_x_rays_based_on_EfficientNetB4_and_Adam.h5\n",
      "8/8 [==============================] - 73s 9s/step - loss: 0.5813 - auc: 0.7731 - val_loss: 0.5476 - val_auc: 0.8381\n",
      "Epoch 11/50\n",
      "8/8 [==============================] - ETA: 0s - loss: 0.5799 - auc: 0.7748\n",
      "Epoch 00011: val_auc did not improve from 0.83807\n",
      "\n",
      "Epoch 00011: val_loss did not improve from 0.54760\n",
      "8/8 [==============================] - 75s 9s/step - loss: 0.5799 - auc: 0.7748 - val_loss: 0.5915 - val_auc: 0.7609\n",
      "Epoch 12/50\n",
      "8/8 [==============================] - ETA: 0s - loss: 0.5616 - auc: 0.8030\n",
      "Epoch 00012: val_auc did not improve from 0.83807\n",
      "\n",
      "Epoch 00012: val_loss did not improve from 0.54760\n",
      "8/8 [==============================] - 78s 10s/step - loss: 0.5616 - auc: 0.8030 - val_loss: 0.5625 - val_auc: 0.8044\n",
      "Epoch 13/50\n",
      "8/8 [==============================] - ETA: 0s - loss: 0.5663 - auc: 0.7935\n",
      "Epoch 00013: val_auc improved from 0.83807 to 0.85486, saving model to ../Models/tf_model_x_rays_based_on_EfficientNetB4_and_Adam.h5\n",
      "\n",
      "Epoch 00013: val_loss improved from 0.54760 to 0.52061, saving model to ../Models/tf_model_x_rays_based_on_EfficientNetB4_and_Adam.h5\n",
      "8/8 [==============================] - 83s 10s/step - loss: 0.5663 - auc: 0.7935 - val_loss: 0.5206 - val_auc: 0.8549\n",
      "Epoch 14/50\n",
      "8/8 [==============================] - ETA: 0s - loss: 0.5538 - auc: 0.8124\n",
      "Epoch 00014: val_auc did not improve from 0.85486\n",
      "\n",
      "Epoch 00014: val_loss did not improve from 0.52061\n",
      "8/8 [==============================] - 77s 10s/step - loss: 0.5538 - auc: 0.8124 - val_loss: 0.5441 - val_auc: 0.8215\n",
      "Epoch 15/50\n",
      "8/8 [==============================] - ETA: 0s - loss: 0.5785 - auc: 0.7746\n",
      "Epoch 00015: val_auc did not improve from 0.85486\n",
      "\n",
      "Epoch 00015: val_loss did not improve from 0.52061\n",
      "8/8 [==============================] - 84s 10s/step - loss: 0.5785 - auc: 0.7746 - val_loss: 0.5386 - val_auc: 0.8343\n",
      "Epoch 16/50\n",
      "8/8 [==============================] - ETA: 0s - loss: 0.5451 - auc: 0.8173\n",
      "Epoch 00016: val_auc did not improve from 0.85486\n",
      "\n",
      "Epoch 00016: val_loss did not improve from 0.52061\n",
      "8/8 [==============================] - 83s 10s/step - loss: 0.5451 - auc: 0.8173 - val_loss: 0.5391 - val_auc: 0.8217\n",
      "Epoch 17/50\n",
      "8/8 [==============================] - ETA: 0s - loss: 0.5571 - auc: 0.7966\n",
      "Epoch 00017: val_auc did not improve from 0.85486\n",
      "\n",
      "Epoch 00017: val_loss did not improve from 0.52061\n",
      "8/8 [==============================] - 79s 10s/step - loss: 0.5571 - auc: 0.7966 - val_loss: 0.5721 - val_auc: 0.7830\n",
      "Epoch 18/50\n",
      "8/8 [==============================] - ETA: 0s - loss: 0.5687 - auc: 0.7858\n",
      "Epoch 00018: val_auc did not improve from 0.85486\n",
      "\n",
      "Epoch 00018: val_loss did not improve from 0.52061\n",
      "8/8 [==============================] - 81s 10s/step - loss: 0.5687 - auc: 0.7858 - val_loss: 0.5330 - val_auc: 0.8239\n",
      "Epoch 19/50\n",
      "8/8 [==============================] - ETA: 0s - loss: 0.5516 - auc: 0.8050\n",
      "Epoch 00019: val_auc did not improve from 0.85486\n",
      "\n",
      "Epoch 00019: val_loss did not improve from 0.52061\n",
      "8/8 [==============================] - 78s 10s/step - loss: 0.5516 - auc: 0.8050 - val_loss: 0.5552 - val_auc: 0.7982\n",
      "Epoch 20/50\n",
      "8/8 [==============================] - ETA: 0s - loss: 0.5376 - auc: 0.8173\n",
      "Epoch 00020: val_auc did not improve from 0.85486\n",
      "\n",
      "Epoch 00020: val_loss improved from 0.52061 to 0.51275, saving model to ../Models/tf_model_x_rays_based_on_EfficientNetB4_and_Adam.h5\n",
      "8/8 [==============================] - 86s 11s/step - loss: 0.5376 - auc: 0.8173 - val_loss: 0.5127 - val_auc: 0.8428\n",
      "Epoch 21/50\n",
      "8/8 [==============================] - ETA: 0s - loss: 0.5453 - auc: 0.8063\n",
      "Epoch 00021: val_auc did not improve from 0.85486\n",
      "\n",
      "Epoch 00021: val_loss did not improve from 0.51275\n",
      "8/8 [==============================] - 79s 10s/step - loss: 0.5453 - auc: 0.8063 - val_loss: 0.5609 - val_auc: 0.7899\n",
      "Epoch 22/50\n",
      "8/8 [==============================] - ETA: 0s - loss: 0.5445 - auc: 0.8059\n",
      "Epoch 00022: val_auc did not improve from 0.85486\n",
      "\n",
      "Epoch 00022: val_loss improved from 0.51275 to 0.50560, saving model to ../Models/tf_model_x_rays_based_on_EfficientNetB4_and_Adam.h5\n",
      "8/8 [==============================] - 89s 11s/step - loss: 0.5445 - auc: 0.8059 - val_loss: 0.5056 - val_auc: 0.8536\n",
      "Epoch 23/50\n",
      "8/8 [==============================] - ETA: 0s - loss: 0.5698 - auc: 0.7779\n",
      "Epoch 00023: val_auc did not improve from 0.85486\n",
      "\n",
      "Epoch 00023: val_loss did not improve from 0.50560\n",
      "8/8 [==============================] - 78s 10s/step - loss: 0.5698 - auc: 0.7779 - val_loss: 0.5385 - val_auc: 0.8146\n",
      "Epoch 24/50\n",
      "8/8 [==============================] - ETA: 0s - loss: 0.5234 - auc: 0.8364\n",
      "Epoch 00024: val_auc improved from 0.85486 to 0.87396, saving model to ../Models/tf_model_x_rays_based_on_EfficientNetB4_and_Adam.h5\n",
      "\n",
      "Epoch 00024: val_loss improved from 0.50560 to 0.48089, saving model to ../Models/tf_model_x_rays_based_on_EfficientNetB4_and_Adam.h5\n",
      "8/8 [==============================] - 82s 10s/step - loss: 0.5234 - auc: 0.8364 - val_loss: 0.4809 - val_auc: 0.8740\n",
      "Epoch 25/50\n",
      "8/8 [==============================] - ETA: 0s - loss: 0.5236 - auc: 0.8258\n",
      "Epoch 00025: val_auc did not improve from 0.87396\n",
      "\n",
      "Epoch 00025: val_loss did not improve from 0.48089\n",
      "8/8 [==============================] - 81s 10s/step - loss: 0.5236 - auc: 0.8258 - val_loss: 0.5136 - val_auc: 0.8475\n",
      "Epoch 26/50\n",
      "8/8 [==============================] - ETA: 0s - loss: 0.5063 - auc: 0.8405\n",
      "Epoch 00026: val_auc did not improve from 0.87396\n",
      "\n",
      "Epoch 00026: val_loss did not improve from 0.48089\n",
      "8/8 [==============================] - 79s 10s/step - loss: 0.5063 - auc: 0.8405 - val_loss: 0.5484 - val_auc: 0.8096\n",
      "Epoch 27/50\n",
      "8/8 [==============================] - ETA: 0s - loss: 0.5112 - auc: 0.8372\n",
      "Epoch 00027: val_auc did not improve from 0.87396\n",
      "\n",
      "Epoch 00027: val_loss did not improve from 0.48089\n",
      "8/8 [==============================] - 83s 10s/step - loss: 0.5112 - auc: 0.8372 - val_loss: 0.4916 - val_auc: 0.8630\n",
      "Epoch 28/50\n",
      "8/8 [==============================] - ETA: 0s - loss: 0.5067 - auc: 0.8424\n",
      "Epoch 00028: val_auc did not improve from 0.87396\n",
      "\n",
      "Epoch 00028: val_loss did not improve from 0.48089\n",
      "8/8 [==============================] - 106s 13s/step - loss: 0.5067 - auc: 0.8424 - val_loss: 0.5102 - val_auc: 0.8377\n",
      "Epoch 29/50\n",
      "8/8 [==============================] - ETA: 0s - loss: 0.5178 - auc: 0.8284\n",
      "Epoch 00029: val_auc did not improve from 0.87396\n",
      "\n",
      "Epoch 00029: val_loss did not improve from 0.48089\n",
      "8/8 [==============================] - 103s 13s/step - loss: 0.5178 - auc: 0.8284 - val_loss: 0.5184 - val_auc: 0.8260\n",
      "Epoch 30/50\n",
      "8/8 [==============================] - ETA: 0s - loss: 0.5192 - auc: 0.8262\n",
      "Epoch 00030: val_auc did not improve from 0.87396\n",
      "\n",
      "Epoch 00030: val_loss did not improve from 0.48089\n",
      "8/8 [==============================] - 101s 13s/step - loss: 0.5192 - auc: 0.8262 - val_loss: 0.4874 - val_auc: 0.8560\n",
      "Epoch 31/50\n",
      "8/8 [==============================] - ETA: 0s - loss: 0.5031 - auc: 0.8458\n",
      "Epoch 00031: val_auc did not improve from 0.87396\n",
      "\n",
      "Epoch 00031: val_loss did not improve from 0.48089\n",
      "8/8 [==============================] - 79s 10s/step - loss: 0.5031 - auc: 0.8458 - val_loss: 0.5492 - val_auc: 0.7961\n",
      "Epoch 32/50\n",
      "8/8 [==============================] - ETA: 0s - loss: 0.5215 - auc: 0.8261\n",
      "Epoch 00032: val_auc did not improve from 0.87396\n",
      "\n",
      "Epoch 00032: val_loss did not improve from 0.48089\n",
      "8/8 [==============================] - 85s 11s/step - loss: 0.5215 - auc: 0.8261 - val_loss: 0.5071 - val_auc: 0.8449\n",
      "Epoch 33/50\n",
      "8/8 [==============================] - ETA: 0s - loss: 0.5303 - auc: 0.8133\n",
      "Epoch 00033: val_auc did not improve from 0.87396\n",
      "\n",
      "Epoch 00033: val_loss did not improve from 0.48089\n",
      "8/8 [==============================] - 80s 10s/step - loss: 0.5303 - auc: 0.8133 - val_loss: 0.5632 - val_auc: 0.7824\n",
      "Epoch 34/50\n",
      "8/8 [==============================] - ETA: 0s - loss: 0.5153 - auc: 0.8333\n",
      "Epoch 00034: val_auc did not improve from 0.87396\n",
      "\n",
      "Epoch 00034: val_loss did not improve from 0.48089\n",
      "8/8 [==============================] - 88s 11s/step - loss: 0.5153 - auc: 0.8333 - val_loss: 0.5099 - val_auc: 0.8394\n",
      "Epoch 35/50\n",
      "8/8 [==============================] - ETA: 0s - loss: 0.5211 - auc: 0.8259\n",
      "Epoch 00035: val_auc did not improve from 0.87396\n",
      "\n",
      "Epoch 00035: val_loss did not improve from 0.48089\n",
      "8/8 [==============================] - 87s 11s/step - loss: 0.5211 - auc: 0.8259 - val_loss: 0.5053 - val_auc: 0.8410\n",
      "Epoch 36/50\n",
      "8/8 [==============================] - ETA: 0s - loss: 0.5128 - auc: 0.8332\n",
      "Epoch 00036: val_auc did not improve from 0.87396\n",
      "\n",
      "Epoch 00036: val_loss did not improve from 0.48089\n",
      "8/8 [==============================] - 102s 13s/step - loss: 0.5128 - auc: 0.8332 - val_loss: 0.5402 - val_auc: 0.8084\n",
      "Epoch 37/50\n",
      "8/8 [==============================] - ETA: 0s - loss: 0.5130 - auc: 0.8323\n",
      "Epoch 00037: val_auc did not improve from 0.87396\n",
      "\n",
      "Epoch 00037: val_loss did not improve from 0.48089\n",
      "8/8 [==============================] - 112s 14s/step - loss: 0.5130 - auc: 0.8323 - val_loss: 0.4830 - val_auc: 0.8686\n",
      "Epoch 38/50\n",
      "8/8 [==============================] - ETA: 0s - loss: 0.4780 - auc: 0.8676\n",
      "Epoch 00038: val_auc did not improve from 0.87396\n",
      "\n",
      "Epoch 00038: val_loss improved from 0.48089 to 0.46646, saving model to ../Models/tf_model_x_rays_based_on_EfficientNetB4_and_Adam.h5\n",
      "8/8 [==============================] - 107s 13s/step - loss: 0.4780 - auc: 0.8676 - val_loss: 0.4665 - val_auc: 0.8735\n",
      "Epoch 39/50\n",
      "8/8 [==============================] - ETA: 0s - loss: 0.4921 - auc: 0.8554\n",
      "Epoch 00039: val_auc did not improve from 0.87396\n",
      "\n",
      "Epoch 00039: val_loss did not improve from 0.46646\n",
      "8/8 [==============================] - 100s 13s/step - loss: 0.4921 - auc: 0.8554 - val_loss: 0.4990 - val_auc: 0.8429\n",
      "Epoch 40/50\n",
      "8/8 [==============================] - ETA: 0s - loss: 0.4816 - auc: 0.8602\n",
      "Epoch 00040: val_auc improved from 0.87396 to 0.88257, saving model to ../Models/tf_model_x_rays_based_on_EfficientNetB4_and_Adam.h5\n",
      "\n",
      "Epoch 00040: val_loss improved from 0.46646 to 0.45996, saving model to ../Models/tf_model_x_rays_based_on_EfficientNetB4_and_Adam.h5\n",
      "8/8 [==============================] - 82s 10s/step - loss: 0.4816 - auc: 0.8602 - val_loss: 0.4600 - val_auc: 0.8826\n",
      "Epoch 41/50\n",
      "8/8 [==============================] - ETA: 0s - loss: 0.5053 - auc: 0.8371\n",
      "Epoch 00041: val_auc did not improve from 0.88257\n",
      "\n",
      "Epoch 00041: val_loss did not improve from 0.45996\n",
      "8/8 [==============================] - 79s 10s/step - loss: 0.5053 - auc: 0.8371 - val_loss: 0.4605 - val_auc: 0.8760\n",
      "Epoch 42/50\n",
      "8/8 [==============================] - ETA: 0s - loss: 0.4725 - auc: 0.8676\n",
      "Epoch 00042: val_auc did not improve from 0.88257\n",
      "\n",
      "Epoch 00042: val_loss did not improve from 0.45996\n",
      "8/8 [==============================] - 84s 10s/step - loss: 0.4725 - auc: 0.8676 - val_loss: 0.4934 - val_auc: 0.8556\n",
      "Epoch 43/50\n",
      "8/8 [==============================] - ETA: 0s - loss: 0.5023 - auc: 0.8443\n",
      "Epoch 00043: val_auc did not improve from 0.88257\n",
      "\n",
      "Epoch 00043: val_loss improved from 0.45996 to 0.45909, saving model to ../Models/tf_model_x_rays_based_on_EfficientNetB4_and_Adam.h5\n",
      "8/8 [==============================] - 81s 10s/step - loss: 0.5023 - auc: 0.8443 - val_loss: 0.4591 - val_auc: 0.8716\n",
      "Epoch 44/50\n",
      "8/8 [==============================] - ETA: 0s - loss: 0.5100 - auc: 0.8328\n",
      "Epoch 00044: val_auc did not improve from 0.88257\n",
      "\n",
      "Epoch 00044: val_loss did not improve from 0.45909\n",
      "8/8 [==============================] - 72s 9s/step - loss: 0.5100 - auc: 0.8328 - val_loss: 0.5077 - val_auc: 0.8278\n",
      "Epoch 45/50\n",
      "8/8 [==============================] - ETA: 0s - loss: 0.4759 - auc: 0.8597\n",
      "Epoch 00045: val_auc did not improve from 0.88257\n",
      "\n",
      "Epoch 00045: val_loss did not improve from 0.45909\n",
      "8/8 [==============================] - 78s 10s/step - loss: 0.4759 - auc: 0.8597 - val_loss: 0.5468 - val_auc: 0.8044\n",
      "Epoch 46/50\n",
      "8/8 [==============================] - ETA: 0s - loss: 0.4999 - auc: 0.8388\n",
      "Epoch 00046: val_auc did not improve from 0.88257\n",
      "\n",
      "Epoch 00046: val_loss did not improve from 0.45909\n",
      "8/8 [==============================] - 73s 9s/step - loss: 0.4999 - auc: 0.8388 - val_loss: 0.4731 - val_auc: 0.8632\n",
      "Epoch 47/50\n",
      "8/8 [==============================] - ETA: 0s - loss: 0.4964 - auc: 0.8436\n",
      "Epoch 00047: val_auc did not improve from 0.88257\n",
      "\n",
      "Epoch 00047: val_loss did not improve from 0.45909\n",
      "8/8 [==============================] - 76s 9s/step - loss: 0.4964 - auc: 0.8436 - val_loss: 0.5518 - val_auc: 0.7990\n",
      "Epoch 48/50\n",
      "8/8 [==============================] - ETA: 0s - loss: 0.4733 - auc: 0.8639\n",
      "Epoch 00048: val_auc did not improve from 0.88257\n",
      "\n",
      "Epoch 00048: val_loss did not improve from 0.45909\n",
      "8/8 [==============================] - 77s 10s/step - loss: 0.4733 - auc: 0.8639 - val_loss: 0.4977 - val_auc: 0.8466\n",
      "Epoch 49/50\n",
      "8/8 [==============================] - ETA: 0s - loss: 0.4950 - auc: 0.8454\n",
      "Epoch 00049: val_auc did not improve from 0.88257\n",
      "\n",
      "Epoch 00049: val_loss did not improve from 0.45909\n",
      "8/8 [==============================] - 83s 10s/step - loss: 0.4950 - auc: 0.8454 - val_loss: 0.4931 - val_auc: 0.8483\n",
      "Epoch 50/50\n",
      "8/8 [==============================] - ETA: 0s - loss: 0.4992 - auc: 0.8398\n",
      "Epoch 00050: val_auc did not improve from 0.88257\n",
      "\n",
      "Epoch 00050: val_loss did not improve from 0.45909\n",
      "8/8 [==============================] - 80s 10s/step - loss: 0.4992 - auc: 0.8398 - val_loss: 0.5206 - val_auc: 0.8141\n"
     ]
    }
   ],
   "source": [
    "h = model.fit(train_generator, \n",
    "              validation_data=validation_generator, \n",
    "              epochs=num_epochs, \n",
    "              steps_per_epoch=train_generator.n // BATCH_SIZE,\n",
    "              validation_steps=validation_generator.n // BATCH_SIZE, \n",
    "              callbacks=CALLBACKS)"
   ]
  },
  {
   "cell_type": "markdown",
   "metadata": {},
   "source": [
    "# Results"
   ]
  },
  {
   "cell_type": "code",
   "execution_count": 63,
   "metadata": {},
   "outputs": [
    {
     "data": {
      "text/plain": [
       "((143,), (143,))"
      ]
     },
     "execution_count": 63,
     "metadata": {},
     "output_type": "execute_result"
    }
   ],
   "source": [
    "y_hat = model.predict(validation_generator)\n",
    "y_hat = tf.argmax(y_hat, axis=1).numpy()\n",
    "\n",
    "y_true = validation_generator.classes\n",
    "y_true.shape, y_hat.shape"
   ]
  },
  {
   "cell_type": "code",
   "execution_count": 64,
   "metadata": {},
   "outputs": [],
   "source": [
    "# preds = model(validation_generator)"
   ]
  },
  {
   "cell_type": "code",
   "execution_count": 65,
   "metadata": {},
   "outputs": [
    {
     "name": "stdout",
     "output_type": "stream",
     "text": [
      "[INFO] False positive rate : [0.         0.42465753 1.        ]\n",
      "[INFO] True positive rate : [0.         0.42857143 1.        ]\n",
      "[INFO] Thresholds : [2 1 0]\n"
     ]
    }
   ],
   "source": [
    "fpr, tpr, thresholds = roc_curve(y_true, y_hat, pos_label=1)\n",
    "\n",
    "print(f'[INFO] False positive rate : {fpr}')\n",
    "print(f'[INFO] True positive rate : {tpr}')\n",
    "print(f'[INFO] Thresholds : {thresholds}')"
   ]
  },
  {
   "cell_type": "code",
   "execution_count": 66,
   "metadata": {},
   "outputs": [
    {
     "data": {
      "image/png": "[encoded data removed]",
      "text/plain": [
       "<Figure size 1440x576 with 1 Axes>"
      ]
     },
     "metadata": {
      "needs_background": "light"
     },
     "output_type": "display_data"
    }
   ],
   "source": [
    "metric = auc(x=fpr, y=tpr)\n",
    "plt.figure(figsize=(20, 8))\n",
    "plt.plot(fpr, tpr, label=f\"AUC score = {metric}\")\n",
    "plt.legend(fontsize = 14)\n",
    "plt.xlabel('False positive rate', fontsize = 18)\n",
    "plt.ylabel('True positive rate', fontsize = 18)\n",
    "plt.xlim(0,1)\n",
    "plt.ylim(0,1)\n",
    "plt.title('ROC Curve')\n",
    "plt.show()\n",
    "\n"
   ]
  },
  {
   "cell_type": "markdown",
   "metadata": {},
   "source": [
    "# Scores CV/LB"
   ]
  },
  {
   "cell_type": "code",
   "execution_count": null,
   "metadata": {},
   "outputs": [],
   "source": []
  },
  {
   "cell_type": "markdown",
   "metadata": {},
   "source": [
    "# Predictions"
   ]
  },
  {
   "cell_type": "code",
   "execution_count": 20,
   "metadata": {},
   "outputs": [
    {
     "data": {
      "text/plain": [
       "1"
      ]
     },
     "execution_count": 20,
     "metadata": {},
     "output_type": "execute_result"
    }
   ],
   "source": [
    "def load_models(cv_models_path = os.path.join(base_dir, 'Models', 'CV_models'), optim_name=\"Adam\"):\n",
    "    models = []\n",
    "    n_folds = 5\n",
    "    try:\n",
    "        for fold_num in range(1, n_folds+1):\n",
    "            m = keras.models.load_model(os.path.join(cv_models_path, f\"tf_xrays_model_based_on_{arch_name}_and_{optim_name}_fold_{fold_num}.h5\"))\n",
    "            m.trainable = False\n",
    "            models.append(m)\n",
    "    except :\n",
    "        model.trainable = False\n",
    "        models.append(model)\n",
    "        \n",
    "    return models\n",
    "\n",
    "\n",
    "models = load_models(optim_name=optim_name)\n",
    "    \n",
    "len(models)"
   ]
  },
  {
   "cell_type": "code",
   "execution_count": 19,
   "metadata": {},
   "outputs": [
    {
     "data": {
      "application/vnd.jupyter.widget-view+json": {
       "model_id": "1d5dd3b1118e4de990154b669a371201",
       "version_major": 2,
       "version_minor": 0
      },
      "text/plain": [
       "HBox(children=(FloatProgress(value=0.0, description='Predicting on test images ', max=82.0, style=ProgressStyl…"
      ]
     },
     "metadata": {},
     "output_type": "display_data"
    },
    {
     "name": "stdout",
     "output_type": "stream",
     "text": [
      "\n"
     ]
    }
   ],
   "source": [
    "def test_step(models):\n",
    "    images_test = []\n",
    "    predictions = []\n",
    "    \n",
    "    for im in tqdm(os.listdir(os.path.join(test_images_dir, 'test')), desc=f\"Predicting on test images \"):\n",
    "        images_test.append(im.split('.')[0])\n",
    "        x = keras.preprocessing.image.load_img(os.path.join(test_images_dir, 'test', im), target_size=(IMG_SIZE, IMG_SIZE))\n",
    "        x = keras.preprocessing.image.img_to_array(x)\n",
    "        x = keras.applications.efficientnet.preprocess_input(x)\n",
    "        tmp_preds = []\n",
    "        for model in models: \n",
    "            pred = model.predict(x.reshape(-1, IMG_SIZE, IMG_SIZE, 3))[0][1]# get column 1 of prediction\n",
    "            tmp_preds.append(pred)\n",
    "        \n",
    "        predictions.append(np.array(tmp_preds).mean())\n",
    "                \n",
    "    return images_test, predictions\n",
    "\n",
    "\n",
    "images_test, predictions = test_step(models = [model])\n",
    "\n",
    "assert len(predictions) == len(images_test)"
   ]
  },
  {
   "cell_type": "code",
   "execution_count": 20,
   "metadata": {},
   "outputs": [
    {
     "data": {
      "text/html": [
       "<div>\n",
       "<style scoped>\n",
       "    .dataframe tbody tr th:only-of-type {\n",
       "        vertical-align: middle;\n",
       "    }\n",
       "\n",
       "    .dataframe tbody tr th {\n",
       "        vertical-align: top;\n",
       "    }\n",
       "\n",
       "    .dataframe thead th {\n",
       "        text-align: right;\n",
       "    }\n",
       "</style>\n",
       "<table border=\"1\" class=\"dataframe\">\n",
       "  <thead>\n",
       "    <tr style=\"text-align: right;\">\n",
       "      <th></th>\n",
       "      <th>ID</th>\n",
       "      <th>LABEL</th>\n",
       "    </tr>\n",
       "  </thead>\n",
       "  <tbody>\n",
       "    <tr>\n",
       "      <th>0</th>\n",
       "      <td>BPMOOTCZ</td>\n",
       "      <td>0.798604</td>\n",
       "    </tr>\n",
       "    <tr>\n",
       "      <th>1</th>\n",
       "      <td>CHDDLHBE</td>\n",
       "      <td>0.379605</td>\n",
       "    </tr>\n",
       "    <tr>\n",
       "      <th>2</th>\n",
       "      <td>OUDDWOML</td>\n",
       "      <td>0.598443</td>\n",
       "    </tr>\n",
       "    <tr>\n",
       "      <th>3</th>\n",
       "      <td>XZCNSJAC</td>\n",
       "      <td>0.755948</td>\n",
       "    </tr>\n",
       "    <tr>\n",
       "      <th>4</th>\n",
       "      <td>RIHEHUTM</td>\n",
       "      <td>0.110457</td>\n",
       "    </tr>\n",
       "    <tr>\n",
       "      <th>...</th>\n",
       "      <td>...</td>\n",
       "      <td>...</td>\n",
       "    </tr>\n",
       "    <tr>\n",
       "      <th>77</th>\n",
       "      <td>LWOMGDGX</td>\n",
       "      <td>0.395023</td>\n",
       "    </tr>\n",
       "    <tr>\n",
       "      <th>78</th>\n",
       "      <td>JUQVMIEU</td>\n",
       "      <td>0.541663</td>\n",
       "    </tr>\n",
       "    <tr>\n",
       "      <th>79</th>\n",
       "      <td>FTBBVMHK</td>\n",
       "      <td>0.834823</td>\n",
       "    </tr>\n",
       "    <tr>\n",
       "      <th>80</th>\n",
       "      <td>XFBRFQRL</td>\n",
       "      <td>0.453245</td>\n",
       "    </tr>\n",
       "    <tr>\n",
       "      <th>81</th>\n",
       "      <td>FUYAZRWU</td>\n",
       "      <td>0.422294</td>\n",
       "    </tr>\n",
       "  </tbody>\n",
       "</table>\n",
       "<p>82 rows × 2 columns</p>\n",
       "</div>"
      ],
      "text/plain": [
       "          ID     LABEL\n",
       "0   BPMOOTCZ  0.798604\n",
       "1   CHDDLHBE  0.379605\n",
       "2   OUDDWOML  0.598443\n",
       "3   XZCNSJAC  0.755948\n",
       "4   RIHEHUTM  0.110457\n",
       "..       ...       ...\n",
       "77  LWOMGDGX  0.395023\n",
       "78  JUQVMIEU  0.541663\n",
       "79  FTBBVMHK  0.834823\n",
       "80  XFBRFQRL  0.453245\n",
       "81  FUYAZRWU  0.422294\n",
       "\n",
       "[82 rows x 2 columns]"
      ]
     },
     "execution_count": 20,
     "metadata": {},
     "output_type": "execute_result"
    }
   ],
   "source": [
    "my_file = pd.DataFrame({\n",
    "    'ID': images_test,\n",
    "    'LABEL':predictions\n",
    "})\n",
    "\n",
    "my_file"
   ]
  },
  {
   "cell_type": "code",
   "execution_count": 21,
   "metadata": {},
   "outputs": [
    {
     "name": "stdout",
     "output_type": "stream",
     "text": [
      "[INFO] Saved file as tf_xrays_based_on_EfficientNetB4_bs_64_opt_Adam_lr_2e-05_ep_50.csv\n"
     ]
    }
   ],
   "source": [
    "file_name = f\"tf_xrays_based_on_{arch_name}_bs_{BATCH_SIZE}_opt_{optim_name}_lr_{lr}_ep_{num_epochs}.csv\"\n",
    "my_file.to_csv(os.path.join(base_dir, 'Submissions', file_name), index=False)\n",
    "\n",
    "print(f\"[INFO] Saved file as {file_name}\")"
   ]
  },
  {
   "cell_type": "code",
   "execution_count": null,
   "metadata": {},
   "outputs": [],
   "source": []
  }
 ],
 "metadata": {
  "kernelspec": {
   "display_name": "Python 3",
   "language": "python",
   "name": "python3"
  },
  "language_info": {
   "codemirror_mode": {
    "name": "ipython",
    "version": 3
   },
   "file_extension": ".py",
   "mimetype": "text/x-python",
   "name": "python",
   "nbconvert_exporter": "python",
   "pygments_lexer": "ipython3",
   "version": "3.6.8"
  }
 },
 "nbformat": 4,
 "nbformat_minor": 4
}
